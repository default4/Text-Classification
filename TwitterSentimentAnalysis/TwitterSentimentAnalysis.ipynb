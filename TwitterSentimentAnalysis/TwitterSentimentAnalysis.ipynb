{
 "cells": [
  {
   "cell_type": "code",
   "execution_count": 18,
   "id": "048b49b8",
   "metadata": {},
   "outputs": [],
   "source": [
    "import requests\n",
    "import zipfile\n",
    "import io\n",
    "import pandas as pd\n",
    "import numpy as np\n",
    "from sklearn.model_selection import train_test_split\n",
    "from sklearn.feature_extraction.text import TfidfVectorizer\n",
    "from sklearn.linear_model import LogisticRegression\n",
    "from sklearn.metrics import classification_report, accuracy_score\n",
    "from textblob import TextBlob"
   ]
  },
  {
   "cell_type": "code",
   "execution_count": 19,
   "id": "39eab0c0",
   "metadata": {},
   "outputs": [],
   "source": [
    "DATASET_URL = \"http://cs.stanford.edu/people/alecmgo/trainingandtestdata.zip\"\n"
   ]
  },
  {
   "cell_type": "code",
   "execution_count": 20,
   "id": "d706532b",
   "metadata": {},
   "outputs": [],
   "source": [
    "def download_and_extract_data():\n",
    "    response = requests.get(DATASET_URL)\n",
    "    z = zipfile.ZipFile(io.BytesIO(response.content))\n",
    "    z.extractall()"
   ]
  },
  {
   "cell_type": "code",
   "execution_count": 21,
   "id": "2400564e",
   "metadata": {},
   "outputs": [],
   "source": [
    "def load_data():\n",
    "    column_names = ['target', 'ids', 'date', 'flag', 'user', 'text']\n",
    "    data = pd.read_csv('training.1600000.processed.noemoticon.csv', encoding='ISO-8859-1', names=column_names)\n",
    "    data = data[['target', 'text']]\n",
    "    return data"
   ]
  },
  {
   "cell_type": "code",
   "execution_count": 22,
   "id": "5de03b07",
   "metadata": {},
   "outputs": [],
   "source": [
    "def preprocess_tweet(tweet):\n",
    "    blob = TextBlob(tweet)\n",
    "    return ' '.join(blob.words)"
   ]
  },
  {
   "cell_type": "code",
   "execution_count": 28,
   "id": "6f3b004c",
   "metadata": {},
   "outputs": [],
   "source": [
    "def main():\n",
    "    download_and_extract_data()\n",
    "    df = load_data()\n",
    "    df['text'] = df['text'].apply(preprocess_tweet)\n",
    "\n",
    "    X = df['text']\n",
    "    y = df['target']\n",
    "\n",
    "    X_train, X_test, y_train, y_test = train_test_split(X, y, test_size=0.2, random_state=42)\n",
    "\n",
    "    vectorizer = TfidfVectorizer(stop_words='english', max_features=5000)\n",
    "    X_train_vec = vectorizer.fit_transform(X_train)\n",
    "    X_test_vec = vectorizer.transform(X_test)\n",
    "\n",
    "    classifier = LogisticRegression(max_iter=1000)\n",
    "    classifier.fit(X_train_vec, y_train)\n",
    "\n",
    "    y_pred = classifier.predict(X_test_vec)\n",
    "\n",
    "    print(\"Classification Report:\")\n",
    "    print(classification_report(y_test, y_pred))\n",
    "    print(\"Accuracy:\", accuracy_score(y_test, y_pred))"
   ]
  },
  {
   "cell_type": "code",
   "execution_count": 29,
   "id": "386bb4f7",
   "metadata": {},
   "outputs": [
    {
     "name": "stdout",
     "output_type": "stream",
     "text": [
      "Classification Report:\n",
      "              precision    recall  f1-score   support\n",
      "\n",
      "           0       0.78      0.74      0.76    159494\n",
      "           4       0.75      0.79      0.77    160506\n",
      "\n",
      "    accuracy                           0.77    320000\n",
      "   macro avg       0.77      0.77      0.77    320000\n",
      "weighted avg       0.77      0.77      0.77    320000\n",
      "\n",
      "Accuracy: 0.767278125\n"
     ]
    }
   ],
   "source": [
    "if __name__ == '__main__':\n",
    "    main()"
   ]
  },
  {
   "cell_type": "code",
   "execution_count": null,
   "id": "dec36063",
   "metadata": {},
   "outputs": [],
   "source": []
  }
 ],
 "metadata": {
  "kernelspec": {
   "display_name": "Python 3 (ipykernel)",
   "language": "python",
   "name": "python3"
  },
  "language_info": {
   "codemirror_mode": {
    "name": "ipython",
    "version": 3
   },
   "file_extension": ".py",
   "mimetype": "text/x-python",
   "name": "python",
   "nbconvert_exporter": "python",
   "pygments_lexer": "ipython3",
   "version": "3.9.12"
  }
 },
 "nbformat": 4,
 "nbformat_minor": 5
}
